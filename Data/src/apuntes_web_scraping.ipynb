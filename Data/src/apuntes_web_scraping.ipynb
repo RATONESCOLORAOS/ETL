{
 "cells": [
  {
   "cell_type": "markdown",
   "metadata": {},
   "source": [
    "# Web Scraping Ratones Coloraos"
   ]
  },
  {
   "cell_type": "markdown",
   "metadata": {},
   "source": [
    "## Primer Paso: Instalar Selenium y Webdriver-manager"
   ]
  },
  {
   "cell_type": "code",
   "execution_count": null,
   "metadata": {},
   "outputs": [],
   "source": [
    "# Escribe y ejecuta este código en tu terminal para instalar las dependencias necesarias\n",
    "\n",
    "%pip install selenium webdriver-manager"
   ]
  },
  {
   "cell_type": "markdown",
   "metadata": {},
   "source": [
    "## Segundo Paso: Usar el siguiente código para ejecutar Selenium con su navegador."
   ]
  },
  {
   "cell_type": "code",
   "execution_count": null,
   "metadata": {},
   "outputs": [],
   "source": [
    "from selenium.webdriver.chrome.options import Options\n",
    "from webdriver_manager.chrome import ChromeDriverManager\n",
    "from selenium import webdriver\n",
    "from selenium.webdriver.common.by import By\n",
    "import warnings\n",
    "import time # Importa el módulo time\n",
    "\n",
    "# Configuración de las opciones del driver\n",
    "\n",
    "opciones = Options()\n",
    "opciones.add_experimental_option('excludeSwitches', ['enable-automation'])\n",
    "opciones.add_experimental_option('useAutomationExtension', False)\n",
    "opciones.headless = False  # True si no quieres que aparezca la ventana del navegador\n",
    "opciones.add_argument('--start-maximized')  # Comienza maximizado\n",
    "opciones.add_argument('--incognito')  # Modo incógnito\n",
    "\n",
    "# Opciones adicionales (descomenta las que quieras utilizar)\n",
    "\n",
    "# opciones.add_argument('--disable-gpu')  # Deshabilita el uso de la GPU\n",
    "# opciones.add_argument('--disable-extensions')  # Deshabilita las extensiones del navegador\n",
    "# opciones.add_argument('--disable-infobars')  # Deshabilita las barras de información\n",
    "# opciones.add_argument('--disable-popup-blocking')  # Deshabilita el bloqueo de ventanas emergentes\n",
    "# opciones.add_argument('--disable-notifications')  # Deshabilita las notificaciones del navegador\n",
    "# opciones.add_argument('--disable-dev-shm-usage')  # Deshabilita el uso compartido de memoria /tmp\n",
    "# opciones.add_argument('--no-sandbox')  # Ejecuta el navegador en un entorno de sandbox\n",
    "# opciones.add_argument('--disable-logging')  # Deshabilita los registros del navegador\n",
    "\n",
    "# Instalación del Chrome Driver y apertura del navegador con las opciones configuradas\n",
    "PATH = ChromeDriverManager().install()  # Instala el driver de Chrome\n",
    "driver = webdriver.Chrome(PATH, options=opciones)  # Asegúrate de pasar las opciones aquí\n",
    "\n",
    "# Ignora las advertencias no relevantes para este script\n",
    "warnings.filterwarnings('ignore')\n",
    "\n",
    "# Navegar a la página que nos interese\n",
    "driver.get('Escribe la URL aquí')\n",
    "\n",
    "# Configuración de las opciones del driver\n",
    "opciones = Options()\n",
    "opciones.add_experimental_option('excludeSwitches', ['enable-automation'])\n",
    "opciones.add_experimental_option('useAutomationExtension', False)\n",
    "opciones.headless = False  # True si no quieres que aparezca la ventana del navegador\n",
    "opciones.add_argument('--start-maximized')  # Comienza maximizado\n",
    "opciones.add_argument('--incognito')  # Modo incógnito\n",
    "\n",
    "# Instalación del Chrome Driver y apertura del navegador con las opciones configuradas\n",
    "PATH = ChromeDriverManager().install()  # Instala el driver de Chrome\n",
    "driver = webdriver.Chrome(PATH, options=opciones)  # Asegúrate de pasar las opciones aquí\n",
    "\n",
    "# Ignora las advertencias no relevantes para este script\n",
    "warnings.filterwarnings('ignore')\n",
    "\n",
    "# Navegar a la página que nos interese\n",
    "driver.get('Escribe la URL aquí')"
   ]
  },
  {
   "cell_type": "markdown",
   "metadata": {},
   "source": [
    "## Tercer Paso: Entender los elementos de la página web\n",
    "\n",
    "### Hay tres tipos de elementos básicos en una página web que nos interesan para poder encontrar los elementos que buscamos, funcionan como una especie de cajita que guarda siempre un tipo de elemento concreto.\n",
    "\n",
    "### Son los siguientes:\n",
    "\n",
    "- **XPATH**: Permite localizar elementos mediante expresiones XPath. Esto es extremadamente poderoso ya que puedes especificar nodos en el documento XML/HTML basándote en su relación exacta con otros nodos. XPath puede ser complejo, pero es muy versátil.\n",
    "\n",
    "- **TAG_NAME**: Se utiliza para encontrar elementos por su nombre de etiqueta HTML. Por ejemplo, si quieres encontrar todas las etiquetas `<a>` (enlaces) en una página, puedes usar `driver.find_elements(By.TAG_NAME, 'a')`.\n",
    "\n",
    "- **CLASS_NAME**: Permite encontrar elementos que tienen un determinado nombre de clase CSS. Si un elemento tiene la clase `btn btn-primary`, puedes encontrarlo usando `driver.find_elements(By.CLASS_NAME, 'btn-primary')`. Ten en cuenta que si la clase tiene espacios (lo que indica múltiples clases), debes usar solo una de ellas, sin espacios.\n",
    "\n",
    "### Además de estos, existen otros métodos de localización:\n",
    "\n",
    "- **ID**: Busca elementos por su atributo `id`. Este es uno de los métodos más comunes para localizar elementos, ya que los ID deberían ser únicos en una página.\n",
    "\n",
    "- **NAME**: Localiza elementos por el atributo `name`. Esto puede ser útil para formularios, donde los elementos de entrada a menudo tienen un atributo `name`.\n",
    "\n",
    "- **LINK_TEXT**: Encuentra un enlace (etiqueta `<a>`) por su texto completo. Es útil cuando se conoce el texto exacto del enlace que se desea localizar.\n",
    "\n",
    "- **PARTIAL_LINK_TEXT**: Similar a **LINK_TEXT**, pero localiza los enlaces que contienen un texto parcial dado. Es útil cuando el texto del enlace es largo o cuando solo se conoce parte del contenido.\n",
    "\n",
    "- **CSS_SELECTOR**: Utiliza selectores CSS para encontrar elementos. Esto permite localizaciones muy específicas y complejas, como elementos con ciertos atributos, dentro de ciertas partes de la página, o en relación con otros elementos.\n",
    "\n"
   ]
  },
  {
   "cell_type": "markdown",
   "metadata": {},
   "source": [
    "## Cuarto Paso: Empieza a hacer Scraping"
   ]
  },
  {
   "cell_type": "code",
   "execution_count": null,
   "metadata": {},
   "outputs": [],
   "source": [
    "# Funcionalidades para hacer scraping e interactuar con la página\n",
    "\n",
    "#Hacer click a un elemento de la página\n",
    "\n",
    "hacer_click_a_un_elemento_de_la_página = driver.find_element(By.XPATH, 'Coloca aquí el XPATH').click()\n",
    "\n",
    "#Escribir en un campo de texto\n",
    "\n",
    "escribir_en_un_campo_de_texto = driver.find_element(By.XPATH, 'Coloca aquí el XPATH').send_keys('Escribe aquí el texto')\n",
    "\n",
    "#Funcion para hacer scroll en la página\n",
    "\n",
    "last_height = driver.execute_script(\"return document.body.scrollHeight\")\n",
    "\n",
    "while True:\n",
    "    # Hace 100 pixeles de Scroll\n",
    "    driver.execute_script(\"window.scrollBy(0, 800)\")\n",
    "\n",
    "    # Espera a que la página cargue\n",
    "    time.sleep(1)\n",
    "\n",
    "    # Calcula la nueva altura de la página y la compara con la anterior para saber si se ha llegado al final de la página\n",
    "    new_height = driver.execute_script(\"return document.body.scrollHeight\")\n",
    "    if new_height == last_height:\n",
    "        break\n",
    "    last_height = new_height\n",
    "\n",
    "#Encuentra los elementos de la página con class_name\n",
    "\n",
    "elementos = driver.find_elements(By.CLASS_NAME, 'Coloca aquí el nombre de la clase')\n",
    "\n",
    "#Encuentra los elementos de la página con tag_name\n",
    "\n",
    "elementos = driver.find_elements(By.TAG_NAME, 'Coloca aquí el nombre de la etiqueta')\n",
    "\n",
    "#Cómo saber si los elementos los puedes encontrar con class_name o tag_name?\n",
    "\n",
    "#Si el elemento que buscas tiene un atributo class, puedes usar class_name\n",
    "#Si el elemento que buscas no tiene un atributo class, puedes usar tag_name\n"
   ]
  },
  {
   "cell_type": "markdown",
   "metadata": {},
   "source": [
    "# Quinto paso: Limpieza\n",
    "\n",
    "## Normalmente los datos que obtengas a través del Scraping no vengan completamente limpios, probablemente contengan más información de la cuenta.\n",
    "\n",
    "## Ejemplo: Estás buscando tener sólamente el nombre del producto, pero junto a él viene la marca, habrá que extraerla, hay crear a **MANO** una nueva lista con ellas y después comparando con la nueva lista de las marcas, eliminar las marcas de la lista original."
   ]
  },
  {
   "cell_type": "code",
   "execution_count": null,
   "metadata": {},
   "outputs": [],
   "source": [
    "#Ejemplo lista de productos\n",
    "\n",
    "lista_de_productos = ['Hacendado Tomate Frito', 'Hacendado Gran Selección Tomate Frito', 'Casa Juncal Tomate Frito', 'Abuela Carola Tomate Frito', 'Merry Tomate Frito', 'Polasal Tomate Frito']\n",
    "\n",
    "#Ejemplo lista de marcas\n",
    "\n",
    "label_list = ['Hacendado', 'Hacendado Gran Selección', 'Casa Juncal', 'Abuela Carola', 'Merry', 'Polasal']\n",
    "\n",
    "#Función para extraer las marcas de la lista de productos\n",
    "\n",
    "def extraer_marca(producto, marcas):\n",
    "    for marca in marcas:\n",
    "        if marca in producto:\n",
    "            return marca\n",
    "    return \"Marca no encontrada\"\n",
    "\n",
    "#Extraer las marcas de la lista de productos usando la función extraer_marca\n",
    "\n",
    "marcas_productos = [extraer_marca(producto, label_list) for producto in lista_de_productos]\n",
    "\n",
    "marcas_productos\n",
    "\n"
   ]
  },
  {
   "cell_type": "code",
   "execution_count": null,
   "metadata": {},
   "outputs": [],
   "source": [
    "#Función para eliminar las marcas de la lista de productos\n",
    "\n",
    "def eliminar_marca_producto(producto, marcas):\n",
    "    for marca in marcas:\n",
    "        if marca in producto: \n",
    "            # Reemplazar la marca en el producto por una cadena vacía y retornar el nombre sin la marca\n",
    "            return producto.replace(marca, \"\").strip()\n",
    "    return producto\n",
    "\n",
    "# Eliminar las marcas de la lista de productos usando la función eliminar_marca_producto\n",
    "productos_sin_marca = [eliminar_marca_producto(producto, label_list) for producto in lista_de_productos]\n",
    "\n",
    "print(productos_sin_marca)"
   ]
  },
  {
   "cell_type": "markdown",
   "metadata": {},
   "source": [
    "## *Puedes utilizar estas dos funciones para cada cosa que necesites extraer y eliminar de la lista original, ya sea la marca como en el ejemplo, la cantidad del producto, el precio... Sólo hay que ajustar la función para lo que necesites*"
   ]
  },
  {
   "cell_type": "markdown",
   "metadata": {},
   "source": [
    "# Sexto paso: Comprobar que las listas que vamos a utilizar para hacer una tabla tienen la misma cantidad de elementos, de lo contrario, no se podría hacer"
   ]
  },
  {
   "cell_type": "code",
   "execution_count": null,
   "metadata": {},
   "outputs": [],
   "source": [
    "len(productos_sin_marca)"
   ]
  },
  {
   "cell_type": "code",
   "execution_count": null,
   "metadata": {},
   "outputs": [],
   "source": [
    "len(marcas_productos)"
   ]
  },
  {
   "cell_type": "markdown",
   "metadata": {},
   "source": [
    "## Séptimo paso: Crear un dataframe con pandas"
   ]
  },
  {
   "cell_type": "code",
   "execution_count": null,
   "metadata": {},
   "outputs": [],
   "source": [
    "#Importar la librería pandas\n",
    "\n",
    "import pandas as pd\n",
    "\n",
    "#Crear un diccionario con los datos\n",
    "data = {'producto': productos_sin_marca,'marca': marcas_productos}\n",
    "\n",
    "#Crear un dataframe con los datos\n",
    "df = pd.DataFrame(data)\n",
    "\n",
    "#Mostrar el dataframe\n",
    "df\n",
    "\n",
    "#Si el dataframe es muy grande, puedes usar df.head() para mostrar solo las primeras filas\n",
    "\n",
    "#df.head()"
   ]
  },
  {
   "cell_type": "markdown",
   "metadata": {},
   "source": [
    "# Octavo Paso: Exportar la tabla a un archivo .csv"
   ]
  },
  {
   "cell_type": "code",
   "execution_count": null,
   "metadata": {},
   "outputs": [],
   "source": [
    "#Exportar csv\n",
    "\n",
    "df.to_csv('Aqui_el_nombre_del_archivo.csv', index=False)"
   ]
  }
 ],
 "metadata": {
  "kernelspec": {
   "display_name": "base",
   "language": "python",
   "name": "python3"
  },
  "language_info": {
   "codemirror_mode": {
    "name": "ipython",
    "version": 3
   },
   "file_extension": ".py",
   "mimetype": "text/x-python",
   "name": "python",
   "nbconvert_exporter": "python",
   "pygments_lexer": "ipython3",
   "version": "3.9.0"
  }
 },
 "nbformat": 4,
 "nbformat_minor": 2
}
